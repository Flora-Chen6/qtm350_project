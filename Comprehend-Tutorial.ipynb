{
 "cells": [
  {
   "cell_type": "markdown",
   "id": "f1fd3851",
   "metadata": {},
   "source": [
    "This is a basic tutorial of how to use Amazon Comprehend and an introduction to its functions."
   ]
  },
  {
   "cell_type": "markdown",
   "id": "b4c98b64",
   "metadata": {},
   "source": [
    "Detecting Dominant Language"
   ]
  },
  {
   "cell_type": "code",
   "execution_count": 5,
   "id": "b017a99f",
   "metadata": {},
   "outputs": [
    {
     "name": "stdout",
     "output_type": "stream",
     "text": [
      "{\r\n",
      "    \"Languages\": [\r\n",
      "        {\r\n",
      "            \"LanguageCode\": \"en\",\r\n",
      "            \"Score\": 0.9925304651260376\r\n",
      "        }\r\n",
      "    ]\r\n",
      "}\r\n"
     ]
    }
   ],
   "source": [
    "!aws comprehend detect-dominant-language \\\n",
    "    --region us-east-1 \\\n",
    "    --text \"It is raining today in Seattle.\"\n"
   ]
  },
  {
   "cell_type": "code",
   "execution_count": 32,
   "id": "72bd43a5",
   "metadata": {},
   "outputs": [
    {
     "name": "stdout",
     "output_type": "stream",
     "text": [
      "{\r\n",
      "    \"Languages\": [\r\n",
      "        {\r\n",
      "            \"LanguageCode\": \"de\",\r\n",
      "            \"Score\": 0.9983222484588623\r\n",
      "        }\r\n",
      "    ]\r\n",
      "}\r\n"
     ]
    }
   ],
   "source": [
    "!aws comprehend detect-dominant-language \\\n",
    "    --region us-east-1 \\\n",
    "    --text \"Das ist nicht gut.\"\n"
   ]
  },
  {
   "cell_type": "markdown",
   "id": "a066fa00",
   "metadata": {},
   "source": [
    "Detecting Named Entities"
   ]
  },
  {
   "cell_type": "code",
   "execution_count": 7,
   "id": "b5b2f35a",
   "metadata": {},
   "outputs": [
    {
     "name": "stdout",
     "output_type": "stream",
     "text": [
      "{\r\n",
      "    \"Entities\": [\r\n",
      "        {\r\n",
      "            \"Score\": 0.9967291355133057,\r\n",
      "            \"Type\": \"DATE\",\r\n",
      "            \"Text\": \"today\",\r\n",
      "            \"BeginOffset\": 14,\r\n",
      "            \"EndOffset\": 19\r\n",
      "        },\r\n",
      "        {\r\n",
      "            \"Score\": 0.9988620281219482,\r\n",
      "            \"Type\": \"LOCATION\",\r\n",
      "            \"Text\": \"Seattle\",\r\n",
      "            \"BeginOffset\": 23,\r\n",
      "            \"EndOffset\": 30\r\n",
      "        }\r\n",
      "    ]\r\n",
      "}\r\n"
     ]
    }
   ],
   "source": [
    "!aws comprehend detect-entities \\\n",
    "    --region us-east-1 \\\n",
    "    --language-code \"en\" \\\n",
    "    --text \"It is raining today in Seattle.\""
   ]
  },
  {
   "cell_type": "markdown",
   "id": "1159b64f",
   "metadata": {},
   "source": [
    "Detecting Key Phrases"
   ]
  },
  {
   "cell_type": "code",
   "execution_count": 9,
   "id": "81346ff1",
   "metadata": {},
   "outputs": [
    {
     "name": "stdout",
     "output_type": "stream",
     "text": [
      "{\r\n",
      "    \"KeyPhrases\": [\r\n",
      "        {\r\n",
      "            \"Score\": 0.9993902444839478,\r\n",
      "            \"Text\": \"today\",\r\n",
      "            \"BeginOffset\": 14,\r\n",
      "            \"EndOffset\": 19\r\n",
      "        },\r\n",
      "        {\r\n",
      "            \"Score\": 0.9989783763885498,\r\n",
      "            \"Text\": \"Seattle\",\r\n",
      "            \"BeginOffset\": 23,\r\n",
      "            \"EndOffset\": 30\r\n",
      "        }\r\n",
      "    ]\r\n",
      "}\r\n"
     ]
    }
   ],
   "source": [
    "!aws comprehend detect-key-phrases \\\n",
    "    --region us-east-1 \\\n",
    "    --language-code \"en\" \\\n",
    "    --text \"It is raining today in Seattle.\"\n"
   ]
  },
  {
   "cell_type": "markdown",
   "id": "383322f7",
   "metadata": {},
   "source": [
    "Determining sentiment"
   ]
  },
  {
   "cell_type": "code",
   "execution_count": 10,
   "id": "5caa28a2",
   "metadata": {},
   "outputs": [
    {
     "name": "stdout",
     "output_type": "stream",
     "text": [
      "{\n",
      "    \"Sentiment\": \"NEUTRAL\",\n",
      "    \"SentimentScore\": {\n",
      "        \"Positive\": 0.02944827452301979,\n",
      "        \"Negative\": 0.42635542154312134,\n",
      "        \"Neutral\": 0.5440797805786133,\n",
      "        \"Mixed\": 0.00011647139763226733\n",
      "    }\n",
      "}\n"
     ]
    }
   ],
   "source": [
    "!aws comprehend detect-sentiment \\\n",
    "    --region us-east-1 \\\n",
    "    --language-code \"en\" \\\n",
    "    --text \"It is raining today in Seattle.\"\n"
   ]
  },
  {
   "cell_type": "markdown",
   "id": "b5001752",
   "metadata": {},
   "source": [
    "Analyzing targeted sentiment - Sentiment analysis determines the dominant sentiment for each input document, but doesn't provide data for further analysis. Targeted sentiment analysis determines the entity-level sentiment for specific entities in each input document. "
   ]
  },
  {
   "cell_type": "code",
   "execution_count": 11,
   "id": "cd6c8553",
   "metadata": {},
   "outputs": [
    {
     "name": "stdout",
     "output_type": "stream",
     "text": [
      "{\r\n",
      "    \"Entities\": [\r\n",
      "        {\r\n",
      "            \"DescriptiveMentionIndex\": [\r\n",
      "                0\r\n",
      "            ],\r\n",
      "            \"Mentions\": [\r\n",
      "                {\r\n",
      "                    \"Score\": 0.9999960064888,\r\n",
      "                    \"GroupScore\": 1.0,\r\n",
      "                    \"Text\": \"burger\",\r\n",
      "                    \"Type\": \"OTHER\",\r\n",
      "                    \"MentionSentiment\": {\r\n",
      "                        \"Sentiment\": \"POSITIVE\",\r\n",
      "                        \"SentimentScore\": {\r\n",
      "                            \"Positive\": 0.9999750256538391,\r\n",
      "                            \"Negative\": 9.999999974752427e-07,\r\n",
      "                            \"Neutral\": 0.0,\r\n",
      "                            \"Mixed\": 2.499999936844688e-05\r\n",
      "                        }\r\n",
      "                    },\r\n",
      "                    \"BeginOffset\": 4,\r\n",
      "                    \"EndOffset\": 10\r\n",
      "                },\r\n",
      "                {\r\n",
      "                    \"Score\": 0.9981750249862671,\r\n",
      "                    \"GroupScore\": 0.9996610283851624,\r\n",
      "                    \"Text\": \"it\",\r\n",
      "                    \"Type\": \"OTHER\",\r\n",
      "                    \"MentionSentiment\": {\r\n",
      "                        \"Sentiment\": \"NEGATIVE\",\r\n",
      "                        \"SentimentScore\": {\r\n",
      "                            \"Positive\": 0.0,\r\n",
      "                            \"Negative\": 0.9999549984931946,\r\n",
      "                            \"Neutral\": 9.999999974752427e-07,\r\n",
      "                            \"Mixed\": 4.400000034365803e-05\r\n",
      "                        }\r\n",
      "                    },\r\n",
      "                    \"BeginOffset\": 36,\r\n",
      "                    \"EndOffset\": 38\r\n",
      "                }\r\n",
      "            ]\r\n",
      "        },\r\n",
      "        {\r\n",
      "            \"DescriptiveMentionIndex\": [\r\n",
      "                0\r\n",
      "            ],\r\n",
      "            \"Mentions\": [\r\n",
      "                {\r\n",
      "                    \"Score\": 0.9999970197677612,\r\n",
      "                    \"GroupScore\": 1.0,\r\n",
      "                    \"Text\": \"service\",\r\n",
      "                    \"Type\": \"ATTRIBUTE\",\r\n",
      "                    \"MentionSentiment\": {\r\n",
      "                        \"Sentiment\": \"POSITIVE\",\r\n",
      "                        \"SentimentScore\": {\r\n",
      "                            \"Positive\": 0.990693986415863,\r\n",
      "                            \"Negative\": 0.0008060000254772604,\r\n",
      "                            \"Neutral\": 0.007286000065505505,\r\n",
      "                            \"Mixed\": 0.0012130000395700336\r\n",
      "                        }\r\n",
      "                    },\r\n",
      "                    \"BeginOffset\": 53,\r\n",
      "                    \"EndOffset\": 60\r\n",
      "                }\r\n",
      "            ]\r\n",
      "        }\r\n",
      "    ]\r\n",
      "}\r\n"
     ]
    }
   ],
   "source": [
    "!aws comprehend detect-targeted-sentiment \\\n",
    "    --region us-east-1 \\\n",
    "    --language-code \"en\" \\\n",
    "    --text \"The burger was cooked perfectly but it was cold. The service was OK.\"\n"
   ]
  },
  {
   "cell_type": "markdown",
   "id": "c017c85e",
   "metadata": {},
   "source": [
    "Detecting syntax"
   ]
  },
  {
   "cell_type": "code",
   "execution_count": 12,
   "id": "621d89ee",
   "metadata": {},
   "outputs": [
    {
     "name": "stdout",
     "output_type": "stream",
     "text": [
      "{\r\n",
      "    \"SyntaxTokens\": [\r\n",
      "        {\r\n",
      "            \"TokenId\": 1,\r\n",
      "            \"Text\": \"It\",\r\n",
      "            \"BeginOffset\": 0,\r\n",
      "            \"EndOffset\": 2,\r\n",
      "            \"PartOfSpeech\": {\r\n",
      "                \"Tag\": \"PRON\",\r\n",
      "                \"Score\": 0.9999788403511047\r\n",
      "            }\r\n",
      "        },\r\n",
      "        {\r\n",
      "            \"TokenId\": 2,\r\n",
      "            \"Text\": \"is\",\r\n",
      "            \"BeginOffset\": 3,\r\n",
      "            \"EndOffset\": 5,\r\n",
      "            \"PartOfSpeech\": {\r\n",
      "                \"Tag\": \"AUX\",\r\n",
      "                \"Score\": 0.9020146131515503\r\n",
      "            }\r\n",
      "        },\r\n",
      "        {\r\n",
      "            \"TokenId\": 3,\r\n",
      "            \"Text\": \"raining\",\r\n",
      "            \"BeginOffset\": 6,\r\n",
      "            \"EndOffset\": 13,\r\n",
      "            \"PartOfSpeech\": {\r\n",
      "                \"Tag\": \"VERB\",\r\n",
      "                \"Score\": 0.9988774657249451\r\n",
      "            }\r\n",
      "        },\r\n",
      "        {\r\n",
      "            \"TokenId\": 4,\r\n",
      "            \"Text\": \"today\",\r\n",
      "            \"BeginOffset\": 14,\r\n",
      "            \"EndOffset\": 19,\r\n",
      "            \"PartOfSpeech\": {\r\n",
      "                \"Tag\": \"NOUN\",\r\n",
      "                \"Score\": 0.999422550201416\r\n",
      "            }\r\n",
      "        },\r\n",
      "        {\r\n",
      "            \"TokenId\": 5,\r\n",
      "            \"Text\": \"in\",\r\n",
      "            \"BeginOffset\": 20,\r\n",
      "            \"EndOffset\": 22,\r\n",
      "            \"PartOfSpeech\": {\r\n",
      "                \"Tag\": \"ADP\",\r\n",
      "                \"Score\": 0.9998905062675476\r\n",
      "            }\r\n",
      "        },\r\n",
      "        {\r\n",
      "            \"TokenId\": 6,\r\n",
      "            \"Text\": \"Seattle\",\r\n",
      "            \"BeginOffset\": 23,\r\n",
      "            \"EndOffset\": 30,\r\n",
      "            \"PartOfSpeech\": {\r\n",
      "                \"Tag\": \"PROPN\",\r\n",
      "                \"Score\": 0.9969281554222107\r\n",
      "            }\r\n",
      "        },\r\n",
      "        {\r\n",
      "            \"TokenId\": 7,\r\n",
      "            \"Text\": \".\",\r\n",
      "            \"BeginOffset\": 30,\r\n",
      "            \"EndOffset\": 31,\r\n",
      "            \"PartOfSpeech\": {\r\n",
      "                \"Tag\": \"PUNCT\",\r\n",
      "                \"Score\": 0.9999977350234985\r\n",
      "            }\r\n",
      "        }\r\n",
      "    ]\r\n",
      "}\r\n"
     ]
    }
   ],
   "source": [
    "!aws comprehend detect-syntax \\\n",
    "   --region us-east-1 \\\n",
    "   --language-code \"en\" \\\n",
    "   --text \"It is raining today in Seattle.\""
   ]
  },
  {
   "cell_type": "markdown",
   "id": "5994d5e1",
   "metadata": {},
   "source": [
    "Async analysis - Topic Modeling"
   ]
  },
  {
   "cell_type": "code",
   "execution_count": 13,
   "id": "4a1b4d12",
   "metadata": {},
   "outputs": [
    {
     "name": "stdout",
     "output_type": "stream",
     "text": [
      "2023-03-28 23:19:03 myaswabcdaksldjdoidasjdk\r\n",
      "2023-03-26 22:04:01 myawsbucket-groupproject\r\n",
      "2023-02-22 18:14:52 myawsbucketfordaylight\r\n"
     ]
    }
   ],
   "source": [
    "!aws s3 ls"
   ]
  },
  {
   "cell_type": "code",
   "execution_count": 25,
   "id": "7d9f8572",
   "metadata": {
    "scrolled": true
   },
   "outputs": [
    {
     "name": "stdout",
     "output_type": "stream",
     "text": [
      "{\r\n",
      "    \"JobId\": \"fa2c6758c4321cb6a8f4111fee44d8d6\",\r\n",
      "    \"JobArn\": \"arn:aws:comprehend:us-east-1:139228718159:topics-detection-job/fa2c6758c4321cb6a8f4111fee44d8d6\",\r\n",
      "    \"JobStatus\": \"SUBMITTED\"\r\n",
      "}\r\n"
     ]
    }
   ],
   "source": [
    "!aws comprehend start-topics-detection-job \\\n",
    "                --number-of-topics 10\\\n",
    "                --job-name \"mytest\" \\\n",
    "                --region us-east-1 \\\n",
    "                --cli-input-json file://jsontest.json\n",
    "    "
   ]
  },
  {
   "cell_type": "code",
   "execution_count": 30,
   "id": "993588f0",
   "metadata": {},
   "outputs": [
    {
     "name": "stdout",
     "output_type": "stream",
     "text": [
      "{\r\n",
      "    \"TopicsDetectionJobPropertiesList\": [\r\n",
      "        {\r\n",
      "            \"JobId\": \"fa2c6758c4321cb6a8f4111fee44d8d6\",\r\n",
      "            \"JobArn\": \"arn:aws:comprehend:us-east-1:139228718159:topics-detection-job/fa2c6758c4321cb6a8f4111fee44d8d6\",\r\n",
      "            \"JobName\": \"mytest\",\r\n",
      "            \"JobStatus\": \"IN_PROGRESS\",\r\n",
      "            \"SubmitTime\": 1680579091.268,\r\n",
      "            \"InputDataConfig\": {\r\n",
      "                \"S3Uri\": \"s3://myawsbucket-groupproject/TestText/\",\r\n",
      "                \"InputFormat\": \"ONE_DOC_PER_FILE\"\r\n",
      "            },\r\n",
      "            \"OutputDataConfig\": {\r\n",
      "                \"S3Uri\": \"s3://myawsbucket-groupproject/TestText/139228718159-TOPICS-fa2c6758c4321cb6a8f4111fee44d8d6/output/output.tar.gz\"\r\n",
      "            },\r\n",
      "            \"NumberOfTopics\": 10,\r\n",
      "            \"DataAccessRoleArn\": \"arn:aws:iam::139228718159:role/LabRole\"\r\n",
      "        }\r\n",
      "    ]\r\n",
      "}\r\n"
     ]
    }
   ],
   "source": [
    "!aws comprehend list-topics-detection-jobs \\--region us-east-1\n",
    "\n"
   ]
  },
  {
   "cell_type": "code",
   "execution_count": 33,
   "id": "debd14db",
   "metadata": {},
   "outputs": [
    {
     "name": "stdout",
     "output_type": "stream",
     "text": [
      "{\r\n",
      "    \"TopicsDetectionJobProperties\": {\r\n",
      "        \"JobId\": \"fa2c6758c4321cb6a8f4111fee44d8d6\",\r\n",
      "        \"JobArn\": \"arn:aws:comprehend:us-east-1:139228718159:topics-detection-job/fa2c6758c4321cb6a8f4111fee44d8d6\",\r\n",
      "        \"JobName\": \"mytest\",\r\n",
      "        \"JobStatus\": \"COMPLETED\",\r\n",
      "        \"SubmitTime\": 1680579091.268,\r\n",
      "        \"EndTime\": 1680579457.086,\r\n",
      "        \"InputDataConfig\": {\r\n",
      "            \"S3Uri\": \"s3://myawsbucket-groupproject/TestText/\",\r\n",
      "            \"InputFormat\": \"ONE_DOC_PER_FILE\"\r\n",
      "        },\r\n",
      "        \"OutputDataConfig\": {\r\n",
      "            \"S3Uri\": \"s3://myawsbucket-groupproject/TestText/139228718159-TOPICS-fa2c6758c4321cb6a8f4111fee44d8d6/output/output.tar.gz\"\r\n",
      "        },\r\n",
      "        \"NumberOfTopics\": 10,\r\n",
      "        \"DataAccessRoleArn\": \"arn:aws:iam::139228718159:role/LabRole\"\r\n",
      "    }\r\n",
      "}\r\n"
     ]
    }
   ],
   "source": [
    "!aws comprehend describe-topics-detection-job --job-id fa2c6758c4321cb6a8f4111fee44d8d6"
   ]
  },
  {
   "cell_type": "code",
   "execution_count": 34,
   "id": "60d6d09c",
   "metadata": {},
   "outputs": [
    {
     "name": "stdout",
     "output_type": "stream",
     "text": [
      "download: s3://myawsbucket-groupproject/TestText/139228718159-TOPICS-fa2c6758c4321cb6a8f4111fee44d8d6/output/output.tar.gz to ./output.tar.gz\r\n"
     ]
    }
   ],
   "source": [
    "!aws s3 cp s3://myawsbucket-groupproject/TestText/139228718159-TOPICS-fa2c6758c4321cb6a8f4111fee44d8d6/output/output.tar.gz output.tar.gz\n"
   ]
  },
  {
   "cell_type": "code",
   "execution_count": null,
   "id": "13ec733c",
   "metadata": {},
   "outputs": [],
   "source": []
  }
 ],
 "metadata": {
  "kernelspec": {
   "display_name": "conda_python3",
   "language": "python",
   "name": "conda_python3"
  },
  "language_info": {
   "codemirror_mode": {
    "name": "ipython",
    "version": 3
   },
   "file_extension": ".py",
   "mimetype": "text/x-python",
   "name": "python",
   "nbconvert_exporter": "python",
   "pygments_lexer": "ipython3",
   "version": "3.10.8"
  }
 },
 "nbformat": 4,
 "nbformat_minor": 5
}

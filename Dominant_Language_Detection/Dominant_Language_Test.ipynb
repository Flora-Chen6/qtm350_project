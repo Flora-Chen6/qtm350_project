{
 "cells": [
  {
   "cell_type": "markdown",
   "id": "727c031d",
   "metadata": {},
   "source": [
    "Dominant Language Test - Test the accuracy of AWS Comprehend Dominant Language API by inputting different combination of languages"
   ]
  },
  {
   "cell_type": "code",
   "execution_count": 1,
   "id": "5d300172",
   "metadata": {},
   "outputs": [
    {
     "name": "stdout",
     "output_type": "stream",
     "text": [
      "2023-03-28 23:19:03 myaswabcdaksldjdoidasjdk\r\n",
      "2023-03-26 22:04:01 myawsbucket-groupproject\r\n",
      "2023-02-22 18:14:52 myawsbucketfordaylight\r\n"
     ]
    }
   ],
   "source": [
    "!aws s3 ls"
   ]
  },
  {
   "cell_type": "code",
   "execution_count": 3,
   "id": "266d1c5f",
   "metadata": {},
   "outputs": [
    {
     "name": "stdout",
     "output_type": "stream",
     "text": [
      "{\r\n",
      "    \"JobId\": \"2ae3a174a2343d5b4dd88e3cb0714148\",\r\n",
      "    \"JobArn\": \"arn:aws:comprehend:us-east-1:139228718159:dominant-language-detection-job/2ae3a174a2343d5b4dd88e3cb0714148\",\r\n",
      "    \"JobStatus\": \"SUBMITTED\"\r\n",
      "}\r\n"
     ]
    }
   ],
   "source": [
    "!aws comprehend start-dominant-language-detection-job \\\n",
    "--input-data-config S3Uri=s3://myawsbucket-groupproject/LanguageTest_Chinese_German_English.txt,InputFormat=ONE_DOC_PER_LINE \\\n",
    "--output-data-config S3Uri=s3://myawsbucket-groupproject/ \\\n",
    "--data-access-role-arn arn:aws:iam::139228718159:role/LabRole \\\n",
    "--job-name dominantLanguageTest\\\n",
    "--region us-east-1\n",
    "\n",
    "#This file contains some sentences composed by entire or some English/Chinese/German. One sentence per line, \n",
    "#so we choose to use ONE_DOC_PER_LINE. We want to see the accuracy of this API. The result is stored at our S3 bucket."
   ]
  },
  {
   "cell_type": "code",
   "execution_count": 7,
   "id": "ab7cc2b8",
   "metadata": {},
   "outputs": [
    {
     "name": "stdout",
     "output_type": "stream",
     "text": [
      "{\r\n",
      "    \"DominantLanguageDetectionJobProperties\": {\r\n",
      "        \"JobId\": \"2ae3a174a2343d5b4dd88e3cb0714148\",\r\n",
      "        \"JobArn\": \"arn:aws:comprehend:us-east-1:139228718159:dominant-language-detection-job/2ae3a174a2343d5b4dd88e3cb0714148\",\r\n",
      "        \"JobName\": \"dominantLanguageTest\",\r\n",
      "        \"JobStatus\": \"COMPLETED\",\r\n",
      "        \"SubmitTime\": 1680636693.096,\r\n",
      "        \"EndTime\": 1680637180.327,\r\n",
      "        \"InputDataConfig\": {\r\n",
      "            \"S3Uri\": \"s3://myawsbucket-groupproject/LanguageTest_Chinese_German_English.txt\",\r\n",
      "            \"InputFormat\": \"ONE_DOC_PER_LINE\"\r\n",
      "        },\r\n",
      "        \"OutputDataConfig\": {\r\n",
      "            \"S3Uri\": \"s3://myawsbucket-groupproject/139228718159-LANGUAGE-2ae3a174a2343d5b4dd88e3cb0714148/output/output.tar.gz\"\r\n",
      "        },\r\n",
      "        \"DataAccessRoleArn\": \"arn:aws:iam::139228718159:role/LabRole\"\r\n",
      "    }\r\n",
      "}\r\n"
     ]
    }
   ],
   "source": [
    "#check the job status. When it's completed, we can download it.\n",
    "!aws comprehend describe-dominant-language-detection-job \\\n",
    "--job-id 2ae3a174a2343d5b4dd88e3cb0714148 \\\n",
    "--region us-east-1\n"
   ]
  },
  {
   "cell_type": "code",
   "execution_count": 11,
   "id": "c6a37dca",
   "metadata": {},
   "outputs": [
    {
     "name": "stdout",
     "output_type": "stream",
     "text": [
      "Completed 434 Bytes/434 Bytes (3.5 KiB/s) with 1 file(s) remaining\r",
      "download: s3://myawsbucket-groupproject/139228718159-LANGUAGE-2ae3a174a2343d5b4dd88e3cb0714148/output/output.tar.gz to ./language_detect_test.tar.gz\r\n"
     ]
    }
   ],
   "source": [
    "#When the job is done, we can download it\n",
    "!aws s3 cp s3://myawsbucket-groupproject/139228718159-LANGUAGE-2ae3a174a2343d5b4dd88e3cb0714148/output/output.tar.gz language_detect_test.tar.gz\n"
   ]
  },
  {
   "cell_type": "code",
   "execution_count": null,
   "id": "dd339495",
   "metadata": {},
   "outputs": [],
   "source": []
  }
 ],
 "metadata": {
  "kernelspec": {
   "display_name": "conda_python3",
   "language": "python",
   "name": "conda_python3"
  },
  "language_info": {
   "codemirror_mode": {
    "name": "ipython",
    "version": 3
   },
   "file_extension": ".py",
   "mimetype": "text/x-python",
   "name": "python",
   "nbconvert_exporter": "python",
   "pygments_lexer": "ipython3",
   "version": "3.10.8"
  }
 },
 "nbformat": 4,
 "nbformat_minor": 5
}

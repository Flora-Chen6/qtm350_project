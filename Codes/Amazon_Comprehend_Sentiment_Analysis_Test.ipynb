{
 "cells": [
  {
   "cell_type": "markdown",
   "id": "ba45f3e8",
   "metadata": {},
   "source": [
    "Input the desired input .txt file stored in S3 buckets to the AWS Comprehend, with an output S3 directory specified. Language code, region, and the user-defined name of the job are also passed as arguments. Also, here we speficied the InputFormat of the documents, one is \"ONE_DOC_PER_LINE\" and the other is \"ONE_DOC_PER_FILE\". "
   ]
  },
  {
   "cell_type": "code",
   "execution_count": 1,
   "id": "8c3c972c",
   "metadata": {},
   "outputs": [
    {
     "name": "stdout",
     "output_type": "stream",
     "text": [
      "{\r\n",
      "    \"JobId\": \"047e8739b4347054d011b8e0c0865e28\",\r\n",
      "    \"JobArn\": \"arn:aws:comprehend:us-east-1:139228718159:sentiment-detection-job/047e8739b4347054d011b8e0c0865e28\",\r\n",
      "    \"JobStatus\": \"SUBMITTED\"\r\n",
      "}\r\n"
     ]
    }
   ],
   "source": [
    "!aws comprehend start-sentiment-detection-job \\\n",
    "--input-data-config S3Uri=s3://myawsbucket-groupproject/TestText/target_Sentiment_individual_sentence.txt,InputFormat=ONE_DOC_PER_LINE \\\n",
    "--output-data-config S3Uri=s3://myawsbucket-groupproject/ \\\n",
    "--data-access-role-arn arn:aws:iam::139228718159:role/LabRole \\\n",
    "--job-name targetedsentimentdetection\\\n",
    "--region us-east-1\\\n",
    "--language-code 'en'"
   ]
  },
  {
   "cell_type": "code",
   "execution_count": 2,
   "id": "1937d795",
   "metadata": {},
   "outputs": [
    {
     "name": "stdout",
     "output_type": "stream",
     "text": [
      "{\r\n",
      "    \"JobId\": \"542fa4ac0c7e14b37f4e2bb32b350e4a\",\r\n",
      "    \"JobArn\": \"arn:aws:comprehend:us-east-1:139228718159:sentiment-detection-job/542fa4ac0c7e14b37f4e2bb32b350e4a\",\r\n",
      "    \"JobStatus\": \"SUBMITTED\"\r\n",
      "}\r\n"
     ]
    }
   ],
   "source": [
    "!aws comprehend start-sentiment-detection-job \\\n",
    "--input-data-config S3Uri=s3://myawsbucket-groupproject/TestText/Sentiment_Whole_Emails/,InputFormat=ONE_DOC_PER_FILE \\\n",
    "--output-data-config S3Uri=s3://myawsbucket-groupproject/ \\\n",
    "--data-access-role-arn arn:aws:iam::139228718159:role/LabRole \\\n",
    "--job-name sentiment_whole\\\n",
    "--region us-east-1\\\n",
    "--language-code 'en'"
   ]
  },
  {
   "cell_type": "markdown",
   "id": "e0318e19",
   "metadata": {},
   "source": [
    "Check the job status and wait it to become \"COMPLETED\""
   ]
  },
  {
   "cell_type": "code",
   "execution_count": 6,
   "id": "74f47053",
   "metadata": {},
   "outputs": [
    {
     "name": "stdout",
     "output_type": "stream",
     "text": [
      "{\r\n",
      "    \"SentimentDetectionJobPropertiesList\": [\r\n",
      "        {\r\n",
      "            \"JobId\": \"047e8739b4347054d011b8e0c0865e28\",\r\n",
      "            \"JobArn\": \"arn:aws:comprehend:us-east-1:139228718159:sentiment-detection-job/047e8739b4347054d011b8e0c0865e28\",\r\n",
      "            \"JobName\": \"targetedsentimentdetection\",\r\n",
      "            \"JobStatus\": \"COMPLETED\",\r\n",
      "            \"SubmitTime\": 1681599906.129,\r\n",
      "            \"EndTime\": 1681600271.733,\r\n",
      "            \"InputDataConfig\": {\r\n",
      "                \"S3Uri\": \"s3://myawsbucket-groupproject/TestText/target_Sentiment_individual_sentence.txt\",\r\n",
      "                \"InputFormat\": \"ONE_DOC_PER_LINE\"\r\n",
      "            },\r\n",
      "            \"OutputDataConfig\": {\r\n",
      "                \"S3Uri\": \"s3://myawsbucket-groupproject/139228718159-SENTIMENT-047e8739b4347054d011b8e0c0865e28/output/output.tar.gz\"\r\n",
      "            },\r\n",
      "            \"LanguageCode\": \"en\",\r\n",
      "            \"DataAccessRoleArn\": \"arn:aws:iam::139228718159:role/LabRole\"\r\n",
      "        },\r\n",
      "        {\r\n",
      "            \"JobId\": \"542fa4ac0c7e14b37f4e2bb32b350e4a\",\r\n",
      "            \"JobArn\": \"arn:aws:comprehend:us-east-1:139228718159:sentiment-detection-job/542fa4ac0c7e14b37f4e2bb32b350e4a\",\r\n",
      "            \"JobName\": \"sentiment_whole\",\r\n",
      "            \"JobStatus\": \"COMPLETED\",\r\n",
      "            \"SubmitTime\": 1681599955.118,\r\n",
      "            \"EndTime\": 1681600321.853,\r\n",
      "            \"InputDataConfig\": {\r\n",
      "                \"S3Uri\": \"s3://myawsbucket-groupproject/TestText/Sentiment_Whole_Emails/\",\r\n",
      "                \"InputFormat\": \"ONE_DOC_PER_FILE\"\r\n",
      "            },\r\n",
      "            \"OutputDataConfig\": {\r\n",
      "                \"S3Uri\": \"s3://myawsbucket-groupproject/139228718159-SENTIMENT-542fa4ac0c7e14b37f4e2bb32b350e4a/output/output.tar.gz\"\r\n",
      "            },\r\n",
      "            \"LanguageCode\": \"en\",\r\n",
      "            \"DataAccessRoleArn\": \"arn:aws:iam::139228718159:role/LabRole\"\r\n",
      "        }\r\n",
      "    ]\r\n",
      "}\r\n"
     ]
    }
   ],
   "source": [
    "!aws comprehend list-sentiment-detection-jobs \\--region us-east-1\n"
   ]
  },
  {
   "cell_type": "markdown",
   "id": "6d30fb3d",
   "metadata": {},
   "source": [
    "Download the two output files"
   ]
  },
  {
   "cell_type": "code",
   "execution_count": 7,
   "id": "6422dc65",
   "metadata": {},
   "outputs": [
    {
     "name": "stdout",
     "output_type": "stream",
     "text": [
      "Completed 728 Bytes/728 Bytes (6.7 KiB/s) with 1 file(s) remaining\r",
      "download: s3://myawsbucket-groupproject/139228718159-SENTIMENT-542fa4ac0c7e14b37f4e2bb32b350e4a/output/output.tar.gz to ./whole.tar.gz\r\n"
     ]
    }
   ],
   "source": [
    "!aws s3 cp s3://myawsbucket-groupproject/139228718159-SENTIMENT-542fa4ac0c7e14b37f4e2bb32b350e4a/output/output.tar.gz whole.tar.gz\n"
   ]
  },
  {
   "cell_type": "code",
   "execution_count": 8,
   "id": "3f815faa",
   "metadata": {},
   "outputs": [
    {
     "name": "stdout",
     "output_type": "stream",
     "text": [
      "Completed 760 Bytes/760 Bytes (7.4 KiB/s) with 1 file(s) remaining\r",
      "download: s3://myawsbucket-groupproject/139228718159-SENTIMENT-047e8739b4347054d011b8e0c0865e28/output/output.tar.gz to ./individual.tar.gz\r\n"
     ]
    }
   ],
   "source": [
    "!aws s3 cp s3://myawsbucket-groupproject/139228718159-SENTIMENT-047e8739b4347054d011b8e0c0865e28/output/output.tar.gz individual.tar.gz\n"
   ]
  }
 ],
 "metadata": {
  "kernelspec": {
   "display_name": "conda_python3",
   "language": "python",
   "name": "conda_python3"
  },
  "language_info": {
   "codemirror_mode": {
    "name": "ipython",
    "version": 3
   },
   "file_extension": ".py",
   "mimetype": "text/x-python",
   "name": "python",
   "nbconvert_exporter": "python",
   "pygments_lexer": "ipython3",
   "version": "3.10.8"
  }
 },
 "nbformat": 4,
 "nbformat_minor": 5
}

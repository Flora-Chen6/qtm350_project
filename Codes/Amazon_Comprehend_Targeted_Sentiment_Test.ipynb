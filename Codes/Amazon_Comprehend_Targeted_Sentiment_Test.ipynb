{
 "cells": [
  {
   "cell_type": "markdown",
   "id": "04b44153",
   "metadata": {},
   "source": [
    "Input the desired input .txt file stored in S3 buckets to the AWS Comprehend, with an output S3 directory specified. Language code, region, and the user-defined name of the job are also passed as arguments."
   ]
  },
  {
   "cell_type": "code",
   "execution_count": 2,
   "id": "cdee5b78",
   "metadata": {},
   "outputs": [
    {
     "name": "stdout",
     "output_type": "stream",
     "text": [
      "{\r\n",
      "    \"JobId\": \"4bdf37372daf42a862e0f30ace2f1a60\",\r\n",
      "    \"JobArn\": \"arn:aws:comprehend:us-east-1:139228718159:targeted-sentiment-detection-job/4bdf37372daf42a862e0f30ace2f1a60\",\r\n",
      "    \"JobStatus\": \"SUBMITTED\"\r\n",
      "}\r\n"
     ]
    }
   ],
   "source": [
    "!aws comprehend start-targeted-sentiment-detection-job \\\n",
    "--input-data-config S3Uri=s3://myawsbucket-groupproject/TestText/Target_Sentiment_test.txt,InputFormat=ONE_DOC_PER_LINE \\\n",
    "--output-data-config S3Uri=s3://myawsbucket-groupproject/ \\\n",
    "--data-access-role-arn arn:aws:iam::139228718159:role/LabRole \\\n",
    "--job-name targetedsentimentdetection\\\n",
    "--region us-east-1\\\n",
    "--language-code 'en'"
   ]
  },
  {
   "cell_type": "markdown",
   "id": "f01872a5",
   "metadata": {},
   "source": [
    "Check the job status and wait it to become \"COMPLETED\""
   ]
  },
  {
   "cell_type": "code",
   "execution_count": 5,
   "id": "905dbb9a",
   "metadata": {},
   "outputs": [
    {
     "name": "stdout",
     "output_type": "stream",
     "text": [
      "{\r\n",
      "    \"TargetedSentimentDetectionJobPropertiesList\": [\r\n",
      "        {\r\n",
      "            \"JobId\": \"4bdf37372daf42a862e0f30ace2f1a60\",\r\n",
      "            \"JobArn\": \"arn:aws:comprehend:us-east-1:139228718159:targeted-sentiment-detection-job/4bdf37372daf42a862e0f30ace2f1a60\",\r\n",
      "            \"JobName\": \"targetedsentimentdetection\",\r\n",
      "            \"JobStatus\": \"COMPLETED\",\r\n",
      "            \"SubmitTime\": 1681591880.038,\r\n",
      "            \"EndTime\": 1681592306.164,\r\n",
      "            \"InputDataConfig\": {\r\n",
      "                \"S3Uri\": \"s3://myawsbucket-groupproject/TestText/Target_Sentiment_test.txt\",\r\n",
      "                \"InputFormat\": \"ONE_DOC_PER_LINE\"\r\n",
      "            },\r\n",
      "            \"OutputDataConfig\": {\r\n",
      "                \"S3Uri\": \"s3://myawsbucket-groupproject/139228718159-TS-4bdf37372daf42a862e0f30ace2f1a60/output/output.tar.gz\"\r\n",
      "            },\r\n",
      "            \"LanguageCode\": \"en\",\r\n",
      "            \"DataAccessRoleArn\": \"arn:aws:iam::139228718159:role/LabRole\"\r\n",
      "        }\r\n",
      "    ]\r\n",
      "}\r\n"
     ]
    }
   ],
   "source": [
    "!aws comprehend list-targeted-sentiment-detection-jobs \\--region us-east-1\n"
   ]
  },
  {
   "cell_type": "markdown",
   "id": "09254c55",
   "metadata": {},
   "source": [
    "Download the output file"
   ]
  },
  {
   "cell_type": "code",
   "execution_count": 6,
   "id": "7c29d30f",
   "metadata": {},
   "outputs": [
    {
     "name": "stdout",
     "output_type": "stream",
     "text": [
      "Completed 2.3 KiB/2.3 KiB (20.0 KiB/s) with 1 file(s) remaining\r",
      "download: s3://myawsbucket-groupproject/139228718159-TS-4bdf37372daf42a862e0f30ace2f1a60/output/output.tar.gz to ./sentiment_detect_test.tar.gz\r\n"
     ]
    }
   ],
   "source": [
    "!aws s3 cp s3://myawsbucket-groupproject/139228718159-TS-4bdf37372daf42a862e0f30ace2f1a60/output/output.tar.gz\\\n",
    "    sentiment_detect_test.tar.gz"
   ]
  }
 ],
 "metadata": {
  "kernelspec": {
   "display_name": "conda_python3",
   "language": "python",
   "name": "conda_python3"
  },
  "language_info": {
   "codemirror_mode": {
    "name": "ipython",
    "version": 3
   },
   "file_extension": ".py",
   "mimetype": "text/x-python",
   "name": "python",
   "nbconvert_exporter": "python",
   "pygments_lexer": "ipython3",
   "version": "3.10.8"
  }
 },
 "nbformat": 4,
 "nbformat_minor": 5
}

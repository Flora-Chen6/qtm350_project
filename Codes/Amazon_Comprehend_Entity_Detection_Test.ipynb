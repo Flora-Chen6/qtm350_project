{
 "cells": [
  {
   "cell_type": "markdown",
   "id": "f02f5105",
   "metadata": {},
   "source": [
    "Input the desired input .txt file stored in S3 buckets to the AWS Comprehend, with an output S3 directory specified. Language code, region, and the user-defined name of the job are also passed as arguments."
   ]
  },
  {
   "cell_type": "code",
   "execution_count": 1,
   "id": "df0f27d8",
   "metadata": {},
   "outputs": [
    {
     "name": "stdout",
     "output_type": "stream",
     "text": [
      "{\r\n",
      "    \"JobId\": \"bb76551a70c0ebfd790d65e4e6d1f58b\",\r\n",
      "    \"JobArn\": \"arn:aws:comprehend:us-east-1:139228718159:entities-detection-job/bb76551a70c0ebfd790d65e4e6d1f58b\",\r\n",
      "    \"JobStatus\": \"SUBMITTED\"\r\n",
      "}\r\n"
     ]
    }
   ],
   "source": [
    "!aws comprehend start-entities-detection-job \\\n",
    "--input-data-config S3Uri=s3://myawsbucket-groupproject/TestText/Entity_Recog_test.txt,InputFormat=ONE_DOC_PER_LINE \\\n",
    "--output-data-config S3Uri=s3://myawsbucket-groupproject/ \\\n",
    "--data-access-role-arn arn:aws:iam::139228718159:role/LabRole \\\n",
    "--job-name entitydetection\\\n",
    "--region us-east-1\\\n",
    "--language-code 'en'"
   ]
  },
  {
   "cell_type": "markdown",
   "id": "2a926493",
   "metadata": {},
   "source": [
    "Check the job status and wait it to become \"COMPLETED\""
   ]
  },
  {
   "cell_type": "code",
   "execution_count": 3,
   "id": "988a0119",
   "metadata": {},
   "outputs": [
    {
     "name": "stdout",
     "output_type": "stream",
     "text": [
      "{\r\n",
      "    \"EntitiesDetectionJobPropertiesList\": [\r\n",
      "        {\r\n",
      "            \"JobId\": \"b9ce767e8a419ed70cf3b0d6fb734039\",\r\n",
      "            \"JobArn\": \"arn:aws:comprehend:us-east-1:139228718159:entities-detection-job/b9ce767e8a419ed70cf3b0d6fb734039\",\r\n",
      "            \"JobName\": \"entitydetection\",\r\n",
      "            \"JobStatus\": \"COMPLETED\",\r\n",
      "            \"SubmitTime\": 1681678786.064,\r\n",
      "            \"EndTime\": 1681679152.09,\r\n",
      "            \"InputDataConfig\": {\r\n",
      "                \"S3Uri\": \"s3://myawsbucket-groupproject/TestText/Entity_Recog_test.txt\",\r\n",
      "                \"InputFormat\": \"ONE_DOC_PER_LINE\"\r\n",
      "            },\r\n",
      "            \"OutputDataConfig\": {\r\n",
      "                \"S3Uri\": \"s3://myawsbucket-groupproject/139228718159-NER-b9ce767e8a419ed70cf3b0d6fb734039/output/output.tar.gz\"\r\n",
      "            },\r\n",
      "            \"LanguageCode\": \"en\",\r\n",
      "            \"DataAccessRoleArn\": \"arn:aws:iam::139228718159:role/LabRole\"\r\n",
      "        },\r\n",
      "        {\r\n",
      "            \"JobId\": \"bb76551a70c0ebfd790d65e4e6d1f58b\",\r\n",
      "            \"JobArn\": \"arn:aws:comprehend:us-east-1:139228718159:entities-detection-job/bb76551a70c0ebfd790d65e4e6d1f58b\",\r\n",
      "            \"JobName\": \"entitydetection\",\r\n",
      "            \"JobStatus\": \"COMPLETED\",\r\n",
      "            \"SubmitTime\": 1681687690.374,\r\n",
      "            \"EndTime\": 1681688057.727,\r\n",
      "            \"InputDataConfig\": {\r\n",
      "                \"S3Uri\": \"s3://myawsbucket-groupproject/TestText/Entity_Recog_test.txt\",\r\n",
      "                \"InputFormat\": \"ONE_DOC_PER_LINE\"\r\n",
      "            },\r\n",
      "            \"OutputDataConfig\": {\r\n",
      "                \"S3Uri\": \"s3://myawsbucket-groupproject/139228718159-NER-bb76551a70c0ebfd790d65e4e6d1f58b/output/output.tar.gz\"\r\n",
      "            },\r\n",
      "            \"LanguageCode\": \"en\",\r\n",
      "            \"DataAccessRoleArn\": \"arn:aws:iam::139228718159:role/LabRole\"\r\n",
      "        }\r\n",
      "    ]\r\n",
      "}\r\n"
     ]
    }
   ],
   "source": [
    "!aws comprehend list-entities-detection-jobs \\--region us-east-1\n"
   ]
  },
  {
   "cell_type": "markdown",
   "id": "9ecc50ac",
   "metadata": {},
   "source": [
    "Download the output file"
   ]
  },
  {
   "cell_type": "code",
   "execution_count": 6,
   "id": "fa19a3e1",
   "metadata": {},
   "outputs": [
    {
     "name": "stdout",
     "output_type": "stream",
     "text": [
      "Completed 1.6 KiB/1.6 KiB (11.8 KiB/s) with 1 file(s) remaining\r",
      "download: s3://myawsbucket-groupproject/139228718159-NER-b9ce767e8a419ed70cf3b0d6fb734039/output/output.tar.gz to ./entity_output.tar.gz\r\n"
     ]
    }
   ],
   "source": [
    "!aws s3 cp s3://myawsbucket-groupproject/139228718159-NER-bb76551a70c0ebfd790d65e4e6d1f58b/output/output.tar.gz entity_output.tar.gz\n"
   ]
  }
 ],
 "metadata": {
  "kernelspec": {
   "display_name": "conda_python3",
   "language": "python",
   "name": "conda_python3"
  },
  "language_info": {
   "codemirror_mode": {
    "name": "ipython",
    "version": 3
   },
   "file_extension": ".py",
   "mimetype": "text/x-python",
   "name": "python",
   "nbconvert_exporter": "python",
   "pygments_lexer": "ipython3",
   "version": "3.10.8"
  }
 },
 "nbformat": 4,
 "nbformat_minor": 5
}

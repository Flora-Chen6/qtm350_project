{
 "cells": [
  {
   "cell_type": "markdown",
   "id": "e7576b33",
   "metadata": {},
   "source": [
    "# Evaluating Amazon Comprehend\n",
    "Group Member: Flora Chen, Olivia Lin, Tong Bai, Uziel Rios, Walter Avila"
   ]
  },
  {
   "cell_type": "markdown",
   "id": "d1a6b37f",
   "metadata": {},
   "source": [
    "## Project Introduction\n",
    "### Why Amazon Comprehend\n",
    "Data science and statistics approaches to AI automated text extraction and comprehension are becoming more relevant in social media management, business marketing, political science research, and various other contexts. Specifically, what these different dimensions have in common in seeking text comprehension methods is that they more efficently want to understand holsitically the sentiments of their audiences of interest. For example, a social media manager or personality may want to gauge their audiences' reactions to a certain clothing brand they've started, a business may want to see how their clients react to a new logo, and a politicl science researcher may want to assess the overall political sentiment of US citizens in response to presidential election results.\n",
    "\n",
    "Most ofen, audiences from these different media overlap. For example, the company and poltics researcher both may scour social media to gain insights on their audience of interest's sentiments. Furthermore, text sources are not limited to social media only but also include surveys, news articles, online social forums, call documents, and much more.\n",
    "\n",
    "Overall, automated text extraction and comprehension is so attractive to different interest groups because these methods can digest thousands of different online text sources at once to track adjusting attitudes to certain changes.\n",
    "\n",
    "The text data source that is most meainngful to different interest groups is social media, as millions of people record their sentiments and feelings publicly. Researchers in a variety of fields, including world politics, communication services, investigative reporting, and commercial enterprise, use social media posts and text as leading indicators to track adjusting attitudes toward relevant or complex issues from multiple perspectives.\n",
    "\n",
    "However, due to the subtlety, oddities, and subjectivity of textual human speech, machines have traditionally failed to understand basic human terminology. Therefore, with a growing demand to access and analyze text data more automacially, we seek to test an AWS system advertising this capability, specifically, on text extraction and comprehension.\n"
   ]
  },
  {
   "cell_type": "markdown",
   "id": "cf325e1d",
   "metadata": {},
   "source": [
    "### What is Amazon Comprehend\n",
    "Amazon Comprehend is a natural language processing (NLP) service provided by AWS. It uses machine learning algorithms to extract insights and relationships from text data, such as social media posts, customer reviews, and news articles. \n",
    "\n",
    "Amazon Comprehend can perform a range of NLP tasks including:\n",
    "- Detecting the dominant language\n",
    "- Detecting named entities\n",
    "- Detecting key phrases\n",
    "- Determining sentiment\n",
    "- Analysis for targeted sentiment\n",
    "- Detecting syntax\n",
    "- Async analysis for event detection\n",
    "- Async analysis for topic modeling\n",
    "\n",
    "We created a tutorial for Amazon Comprehend. You can follow this [walk-through](https://github.com/Flora-Chen6/qtm350_project/blob/main/Comprehend-Tutorial.ipynb) to use Amazon Comprehend APIs on AWS CLI. "
   ]
  },
  {
   "cell_type": "markdown",
   "id": "ebf5e033",
   "metadata": {},
   "source": [
    "## Experiment Design\n",
    "### Our Hypothesis\n",
    "We have the following hypothesis to test the performance and accuracy of Amazon Comprehend. We choose dominant language detection, sentiment analysis, entity recognition, and topic modeling to investigate. \n",
    "* Dominant Language Detection\n",
    "    - Recognize the dominant languạge, even if the sentence is composed by multiple languages or the foreign language sentence is composed entirely of English characters\n",
    "* Sentiment Analysis\n",
    "    - Detect sentiments in a sentence and multiple sentences as a whole from different sources like social media posts and news papers\n",
    "    - Detect sentiment in different languages\n",
    "    - Detect the sentiment of specific aspects or entities mentioned in a given text document (target sentiment)\n",
    "* Entity Recognition\n",
    "    - Extract all entities mentioned in a given text document or dataset\n",
    "    - Distinguish between different entity types such as people, organizations, and locations.\n",
    "* Topic Modeling\n",
    "    - Identify the main topics discussed in a given set of text documents."
   ]
  },
  {
   "cell_type": "markdown",
   "id": "a2c0eecd",
   "metadata": {},
   "source": [
    "### Project Architecture"
   ]
  },
  {
   "cell_type": "markdown",
   "id": "85a0cf03",
   "metadata": {},
   "source": [
    "### Data Collection"
   ]
  },
  {
   "cell_type": "markdown",
   "id": "9512f7dc",
   "metadata": {},
   "source": [
    "## Analysis of Different Aspects of Amazon Comprehend\n",
    "We will then started to analyze Amazon Comprehend to test our hypothesis using our collected data."
   ]
  },
  {
   "cell_type": "markdown",
   "id": "391bd14a",
   "metadata": {},
   "source": [
    "### Dominant Langauge Detection\n",
    "We created an input .txt file containing three different languages: English, Chinese, and German. We have sentences only containing each language and being composed by two languages. Our input file can be found (here)[https://github.com/Flora-Chen6/qtm350_project/blob/main/Dominant_Language_Detection/LanguageTest_Chinese_German_English.txt]. Bascially, we used the sentence \"She asked me, how's your day going?\" in three different languages, and substitute each part by other languages like \"Sie fragte mich: how's your day going?\" and \"She asked me, Wofür ist das?\" to compare the results.\n",
    "\n",
    "We used asynchronous dominant language detection API to do this job. We set the input to be one doc per line, so each sentence is treated individually and would have a seperate output. Our code can be found [here](https://github.com/Flora-Chen6/qtm350_project/blob/main/Dominant_Language_Detection/Dominant_Language_Test.ipynb).\n",
    "\n",
    "Our output can be found [here](https://github.com/Flora-Chen6/qtm350_project/blob/main/Dominant_Language_Detection/Dominant_Language_Detection_Output). We noticed some interesting results: \n",
    "- When the sentence is composed by only one language, Amazon Comprehend can recognize the language correctly with a high(close or equal to 1) score.\n",
    "- When the sentence is composed by more than one language, Amazon Comprehend performed worsely:\n",
    "    - It messed with the porportion of language: In the sentence, \"She asked me, 你今天过得怎么样？\", there are more Chinese characters. However, the result is \"{\"LanguageCode\": \"en\", \"Score\": 0.8727843761444092}, {\"LanguageCode\": \"zh\", \"Score\": 0.12370053678750992}\", indicating English is the dominant language, rather than Chinese. \n",
    "    - It failed to recoginize multiple languages in the sentence. For the complementary sentence of the previous one, \"她问我，how's your day going?\", the result is {\"LanguageCode\": \"en\", \"Score\": 0.9883882403373718}, Amazon Comprehend even fails to recognize there is Chinese in this sentence. It happens for all three languages that Amazon Comprehend fails to recoginize their existence. Meanwhile, in these scenarios, Amazon Comprehend sometimes still gives a high score, indicating the accuracy of both its detection and confidence level is low."
   ]
  },
  {
   "cell_type": "markdown",
   "id": "a0b05b33",
   "metadata": {},
   "source": [
    "### Sentiment Analysis"
   ]
  },
  {
   "cell_type": "markdown",
   "id": "86b242da",
   "metadata": {},
   "source": [
    "### Entity Recognition"
   ]
  },
  {
   "cell_type": "markdown",
   "id": "ca9cbebe",
   "metadata": {},
   "source": [
    "### Topic Modeling"
   ]
  },
  {
   "cell_type": "markdown",
   "id": "83c64103",
   "metadata": {},
   "source": [
    "## Conclusion"
   ]
  }
 ],
 "metadata": {
  "kernelspec": {
   "display_name": "conda_python3",
   "language": "python",
   "name": "conda_python3"
  },
  "language_info": {
   "codemirror_mode": {
    "name": "ipython",
    "version": 3
   },
   "file_extension": ".py",
   "mimetype": "text/x-python",
   "name": "python",
   "nbconvert_exporter": "python",
   "pygments_lexer": "ipython3",
   "version": "3.10.8"
  }
 },
 "nbformat": 4,
 "nbformat_minor": 5
}
